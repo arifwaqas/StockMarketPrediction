{
 "cells": [
  {
   "cell_type": "markdown",
   "metadata": {},
   "source": [
    "# Task - Stock Market Prediction using Numerical and Textual Analysis\n",
    "\n",
    "## Name - Arif Waqas\n",
    "#### Data Science and Business Analytics Intern\n",
    " (Graduate Rotational Internship Program (GRIP) - November 2020)\n",
    "\n",
    "Method used:\n",
    "## Random Forest Classification using Sentiment and Momentum Metrics \n",
    "\n",
    "##### github link - \n",
    "\n",
    "THERE ARE 4 PARTS TO THE ENTIRE PROJECT:\n",
    "### Part 1 - Stock Data Analyzation and Preprocessing\n",
    "### Part 2 - Sentiment Analysis using Valence Aware Dictionary and sEntiment Reasoner\n",
    "### Part 3 - Implementing Inner-Join on Stock Dataset and Setiment Dataset\n",
    "### Part 4 - Building the Model and Evaluation \n"
   ]
  },
  {
   "cell_type": "code",
   "execution_count": null,
   "metadata": {},
   "outputs": [],
   "source": []
  }
 ],
 "metadata": {
  "kernelspec": {
   "display_name": "Python 3",
   "language": "python",
   "name": "python3"
  },
  "language_info": {
   "codemirror_mode": {
    "name": "ipython",
    "version": 3
   },
   "file_extension": ".py",
   "mimetype": "text/x-python",
   "name": "python",
   "nbconvert_exporter": "python",
   "pygments_lexer": "ipython3",
   "version": "3.7.7"
  }
 },
 "nbformat": 4,
 "nbformat_minor": 4
}
